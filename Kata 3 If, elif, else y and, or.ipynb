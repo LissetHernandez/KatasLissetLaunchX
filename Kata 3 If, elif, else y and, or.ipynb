{
 "cells": [
  {
   "cell_type": "markdown",
   "metadata": {},
   "source": [
    "Ejercicio Kata 3 - Escribir declaraciones if, else y elif"
   ]
  },
  {
   "cell_type": "code",
   "execution_count": 5,
   "metadata": {},
   "outputs": [
    {
     "name": "stdout",
     "output_type": "stream",
     "text": [
      "¡Corran ya vieneeee!\n"
     ]
    }
   ],
   "source": [
    "# Un asteroide se acerca y viaja a una velocidad de 49 km/s\n",
    "\n",
    "asteroideV = 49\n",
    "\n",
    "if asteroideV > 26:\n",
    "    print(\"¡Corran ya vieneeee!\")\n",
    "else:\n",
    "    print(\"Tranquilos todos\")"
   ]
  },
  {
   "cell_type": "code",
   "execution_count": 11,
   "metadata": {},
   "outputs": [
    {
     "name": "stdout",
     "output_type": "stream",
     "text": [
      "*no se ve nada*\n"
     ]
    }
   ],
   "source": [
    "#Un asteroide se dirige a una velocidad de 19 km/s\n",
    "\n",
    "asteroideV = 19\n",
    "\n",
    "if asteroideV > 20:\n",
    "    print(\"Qué es eso que brilla en el cielo\")\n",
    "elif asteroideV == 20:\n",
    "    print(\"Qué es eso que brilla en el cielo\")\n",
    "else:\n",
    "    print(\"*no se ve nada*\")"
   ]
  },
  {
   "cell_type": "markdown",
   "metadata": {},
   "source": [
    "Ejercicio Uso de operadores ar y or"
   ]
  },
  {
   "cell_type": "code",
   "execution_count": 19,
   "metadata": {},
   "outputs": [
    {
     "name": "stdout",
     "output_type": "stream",
     "text": [
      "Hay algo en el cielo\n"
     ]
    }
   ],
   "source": [
    "velocidad_asteroide = 25\n",
    "tamano_asteroide = 40\n",
    "if velocidad_asteroide > 25 and tamano_asteroide > 25:\n",
    "    print('¡Un asteroide parece acercarse')\n",
    "elif velocidad_asteroide >= 20:\n",
    "    print('Hay algo en el cielo')\n",
    "elif tamano_asteroide < 25:\n",
    "    print('Nada que ver aquí :)')\n",
    "else:\n",
    "    print('Nada que ver aquí :)')"
   ]
  }
 ],
 "metadata": {
  "interpreter": {
   "hash": "146617aa0a232ba9710276270c170aa613d8181f2f1791207da929bf33617aa7"
  },
  "kernelspec": {
   "display_name": "Python 3.9.6 64-bit",
   "language": "python",
   "name": "python3"
  },
  "language_info": {
   "codemirror_mode": {
    "name": "ipython",
    "version": 3
   },
   "file_extension": ".py",
   "mimetype": "text/x-python",
   "name": "python",
   "nbconvert_exporter": "python",
   "pygments_lexer": "ipython3",
   "version": "3.9.6"
  },
  "orig_nbformat": 4
 },
 "nbformat": 4,
 "nbformat_minor": 2
}
