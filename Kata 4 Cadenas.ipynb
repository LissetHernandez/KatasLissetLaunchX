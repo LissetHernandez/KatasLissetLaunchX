{
 "cells": [
  {
   "cell_type": "markdown",
   "metadata": {},
   "source": [
    "Kata 4. Ejercicio 1 - Transformar cadenas"
   ]
  },
  {
   "cell_type": "code",
   "execution_count": 3,
   "metadata": {},
   "outputs": [
    {
     "name": "stdout",
     "output_type": "stream",
     "text": [
      " On average, the Moon moves 4cm away from the Earth every year\n",
      " The highest daylight temperature of the Moon is 127 Celsius\n"
     ]
    }
   ],
   "source": [
    "texto = \"\"\"Interesting facts about the Moon. The Moon is Earth's only satellite. There are several interesting facts about the Moon and how it affects life here on Earth. On average, the Moon moves 4cm away from the Earth every year. This yearly drift is not significant enough to cause immediate effects on Earth. The highest daylight temperature of the Moon is 127 C.\"\"\"\n",
    "texto = texto.split('.')\n",
    "texto\n",
    "\n",
    "\n",
    "keywords = [\"average\", \"temperature\", \"distance\"]\n",
    "\n",
    "for i in texto:\n",
    "    for key_words in keywords:\n",
    "        if key_words in i:\n",
    "            print(i.replace('C', 'Celsius'))\n",
    "            break"
   ]
  },
  {
   "cell_type": "markdown",
   "metadata": {},
   "source": [
    "Ejercicio 2 - Formateando cadenas"
   ]
  },
  {
   "cell_type": "code",
   "execution_count": 8,
   "metadata": {},
   "outputs": [
    {
     "name": "stdout",
     "output_type": "stream",
     "text": [
      "Gravity Facts about moon: \n",
      " -------------------------------------------------- \n",
      " Planet Name: Earth \n",
      " Gravity on moon: 1.6199999999999999 ms/2 \n",
      " \n"
     ]
    }
   ],
   "source": [
    "name = \"moon\"\n",
    "gravity = 0.00162 #kms\n",
    "planet = \"Earth\"\n",
    "\n",
    "titulo = \"Gravity Facts about \" + name + \": \\n \" + ('-'*50).title()\n",
    "\n",
    "gravitys = str(gravity * 1000)+ \" ms/2\"\n",
    "\n",
    "cadena = \"Planet Name: {0} \\n Gravity on {1}: {2} \\n \".format(planet, name, gravitys) \n",
    "\n",
    "print(titulo, '\\n', cadena)"
   ]
  }
 ],
 "metadata": {
  "interpreter": {
   "hash": "146617aa0a232ba9710276270c170aa613d8181f2f1791207da929bf33617aa7"
  },
  "kernelspec": {
   "display_name": "Python 3.9.6 64-bit",
   "language": "python",
   "name": "python3"
  },
  "language_info": {
   "codemirror_mode": {
    "name": "ipython",
    "version": 3
   },
   "file_extension": ".py",
   "mimetype": "text/x-python",
   "name": "python",
   "nbconvert_exporter": "python",
   "pygments_lexer": "ipython3",
   "version": "3.9.6"
  },
  "orig_nbformat": 4
 },
 "nbformat": 4,
 "nbformat_minor": 2
}
