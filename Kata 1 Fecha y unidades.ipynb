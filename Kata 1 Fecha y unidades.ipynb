{
 "cells": [
  {
   "cell_type": "markdown",
   "metadata": {},
   "source": [
    "Fecha"
   ]
  },
  {
   "cell_type": "code",
   "execution_count": 4,
   "metadata": {},
   "outputs": [
    {
     "name": "stdout",
     "output_type": "stream",
     "text": [
      "2022-02-22\n"
     ]
    }
   ],
   "source": [
    "# Importamos primero la biblioteca \n",
    "from datetime import date\n",
    "\n",
    "date.today()\n",
    "\n",
    "print(date.today())"
   ]
  },
  {
   "cell_type": "code",
   "execution_count": 6,
   "metadata": {},
   "outputs": [
    {
     "name": "stdout",
     "output_type": "stream",
     "text": [
      "Today's date is: 2022-02-22\n"
     ]
    }
   ],
   "source": [
    "print(\"Today's date is: \" + str(date.today()))"
   ]
  },
  {
   "cell_type": "markdown",
   "metadata": {},
   "source": [
    "Convertidor de unidades"
   ]
  },
  {
   "cell_type": "code",
   "execution_count": 9,
   "metadata": {},
   "outputs": [
    {
     "name": "stdout",
     "output_type": "stream",
     "text": [
      "Bienvenido al covertidor de años luz LaunchX\n",
      "...calculado...\n",
      "15 parsecs es igual a: 48.923399999999994 años luz\n"
     ]
    }
   ],
   "source": [
    "print(\"Bienvenido al covertidor de años luz LaunchX\")\n",
    "\n",
    "parsec = input(\"Introduzca el valor en parsecs: \")\n",
    "\n",
    "print(\"...calculado...\")\n",
    "\n",
    "lightyear = float(parsec) * 3.26156\n",
    "\n",
    "print(str(parsec) + \" parsecs es igual a: \" + str(lightyear) + \" años luz\")"
   ]
  }
 ],
 "metadata": {
  "interpreter": {
   "hash": "146617aa0a232ba9710276270c170aa613d8181f2f1791207da929bf33617aa7"
  },
  "kernelspec": {
   "display_name": "Python 3.9.6 64-bit",
   "language": "python",
   "name": "python3"
  },
  "language_info": {
   "codemirror_mode": {
    "name": "ipython",
    "version": 3
   },
   "file_extension": ".py",
   "mimetype": "text/x-python",
   "name": "python",
   "nbconvert_exporter": "python",
   "pygments_lexer": "ipython3",
   "version": "3.9.6"
  },
  "orig_nbformat": 4
 },
 "nbformat": 4,
 "nbformat_minor": 2
}
